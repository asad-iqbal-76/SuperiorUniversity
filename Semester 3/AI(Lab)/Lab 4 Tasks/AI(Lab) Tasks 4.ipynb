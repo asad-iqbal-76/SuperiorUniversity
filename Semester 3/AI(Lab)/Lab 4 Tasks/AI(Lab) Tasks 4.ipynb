{
 "cells": [
  {
   "cell_type": "markdown",
   "id": "fd70b18f-bcf4-4875-8f8f-b9915e3be4e1",
   "metadata": {},
   "source": [
    "# Task # 1"
   ]
  },
  {
   "cell_type": "code",
   "execution_count": 2,
   "id": "c04e46a7-9ef5-41a2-bf7e-c7c2381f36f6",
   "metadata": {},
   "outputs": [
    {
     "name": "stdin",
     "output_type": "stream",
     "text": [
      " 4782780034318595\n"
     ]
    },
    {
     "name": "stdout",
     "output_type": "stream",
     "text": [
      "['9', '5', '8', '1', '3', '4', '3', '0', '0', '8', '7', '2', '8', '7', '4', 'x']\n",
      "1851616460081421678x\n",
      "957164600852778x\n",
      "['9', '5', '7', '1', '6', '4', '6', '0', '0', '8', '5', '2', '7', '7', '8', '5']\n",
      "80\n",
      "valid\n"
     ]
    }
   ],
   "source": [
    "code = input()\n",
    "code = list(code)\n",
    "a = code.pop()\n",
    "code.reverse()\n",
    "code.append(\"x\")\n",
    "print(code)\n",
    "c = \"\"\n",
    "\n",
    "for i in range(len(code)):\n",
    "    if i % 2 == 0:  \n",
    "        if code[i].isdigit():  \n",
    "            code[i] = str(int(code[i]) * 2)\n",
    "c = \"\".join(code)\n",
    "print(c)\n",
    "for i in range(len(code)):\n",
    "    if code[i].isdigit():  \n",
    "        if int(code[i]) > 9:\n",
    "            code[i] = str(int(code[i]) - 9)\n",
    "c = \"\".join(code)\n",
    "print(c)\n",
    "code = list(c)\n",
    "code.pop()       \n",
    "code.append(a)\n",
    "print(code)\n",
    "total_sum = 0\n",
    "for element in code:\n",
    "    if element.isdigit(): \n",
    "        total_sum += int(element)  \n",
    "\n",
    "print(total_sum)\n",
    "if total_sum % 10 == 0:\n",
    "    print(\"valid\")\n",
    "else:\n",
    "    print(\"Invalid\")"
   ]
  },
  {
   "cell_type": "markdown",
   "id": "e350d1b9-eff3-49f7-ae7e-2661cc609733",
   "metadata": {},
   "source": [
    "# Task # 2"
   ]
  },
  {
   "cell_type": "code",
   "execution_count": 5,
   "id": "acb7b818-ba72-4532-ac1e-375fc1a0e259",
   "metadata": {},
   "outputs": [
    {
     "name": "stdin",
     "output_type": "stream",
     "text": [
      " As,a'a*&^%$d\n"
     ]
    },
    {
     "name": "stdout",
     "output_type": "stream",
     "text": [
      "Asaad\n"
     ]
    }
   ],
   "source": [
    "a = input()\n",
    "result = \"\"\n",
    "for i in a:\n",
    "    if i.isalpha():\n",
    "        result += i\n",
    "print(result)"
   ]
  },
  {
   "cell_type": "markdown",
   "id": "20c0d85a-5bb9-47df-ad7c-53c38eabd381",
   "metadata": {},
   "source": [
    "# Task # 3"
   ]
  },
  {
   "cell_type": "code",
   "execution_count": 8,
   "id": "e337476b-95e2-426a-97cd-75127319f961",
   "metadata": {},
   "outputs": [
    {
     "name": "stdin",
     "output_type": "stream",
     "text": [
      "Enter the text you want to sort:  AsaadIqbal\n"
     ]
    },
    {
     "name": "stdout",
     "output_type": "stream",
     "text": [
      "The user's input text sorted as:  AaaabdIlqs\n"
     ]
    }
   ],
   "source": [
    "userinput = input(\"Enter the text you want to sort: \")\n",
    "userinput = list(userinput)\n",
    "for i in range(len(userinput)):\n",
    "    for j in range(len(userinput)-1):\n",
    "        if userinput[j].lower() > userinput[j+1].lower():\n",
    "            userinput[j],userinput[j+1] = userinput[j+1],userinput[j]\n",
    "sorted_userinput = \"\".join(userinput)\n",
    "print(\"The user's input text sorted as: \", sorted_userinput)"
   ]
  }
 ],
 "metadata": {
  "kernelspec": {
   "display_name": "Python 3 (ipykernel)",
   "language": "python",
   "name": "python3"
  },
  "language_info": {
   "codemirror_mode": {
    "name": "ipython",
    "version": 3
   },
   "file_extension": ".py",
   "mimetype": "text/x-python",
   "name": "python",
   "nbconvert_exporter": "python",
   "pygments_lexer": "ipython3",
   "version": "3.12.4"
  }
 },
 "nbformat": 4,
 "nbformat_minor": 5
}
