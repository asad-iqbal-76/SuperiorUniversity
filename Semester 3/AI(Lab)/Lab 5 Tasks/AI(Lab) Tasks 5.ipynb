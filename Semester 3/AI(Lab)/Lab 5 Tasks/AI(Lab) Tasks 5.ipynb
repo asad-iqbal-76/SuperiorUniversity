{
 "cells": [
  {
   "cell_type": "markdown",
   "id": "8a3ce7fc-118c-4af8-b0a3-7ced53586450",
   "metadata": {},
   "source": [
    "# Task # 1"
   ]
  },
  {
   "cell_type": "code",
   "execution_count": 10,
   "id": "e9f69aa9-39aa-4399-bc06-96c969a2e363",
   "metadata": {},
   "outputs": [],
   "source": [
    "class Node:\n",
    "    def __init__(self, data):\n",
    "        self.data = data\n",
    "        self.left = None\n",
    "        self.right = None\n",
    "\n",
    "class DFS:\n",
    "    def __init__(self):\n",
    "        self.stack = []\n",
    "    \n",
    "    def push(self, node):\n",
    "        if node:\n",
    "            self.stack.append(node)\n",
    "    \n",
    "    def pop(self):\n",
    "        if self.stack:\n",
    "            return self.stack.pop()\n",
    "        return None\n",
    "\n",
    "    def traverse(self, root):\n",
    "        self.push(root)\n",
    "        while self.stack:\n",
    "            current_node = self.pop()\n",
    "            if current_node:\n",
    "                print(current_node.data, end=\" \") \n",
    "                self.push(current_node.right)\n",
    "                self.push(current_node.left)"
   ]
  },
  {
   "cell_type": "code",
   "execution_count": 12,
   "id": "c81071e2-cf1c-4122-bcbd-a28adb300d92",
   "metadata": {},
   "outputs": [
    {
     "name": "stdout",
     "output_type": "stream",
     "text": [
      "A B D E C F G "
     ]
    }
   ],
   "source": [
    "root = Node('A')\n",
    "root.left = Node('B')\n",
    "root.right = Node('C')\n",
    "root.left.left = Node('D')\n",
    "root.left.right = Node('E')\n",
    "root.right.left = Node('F')\n",
    "root.right.right = Node('G')\n",
    "dfs = DFS()\n",
    "dfs.traverse(root)"
   ]
  },
  {
   "cell_type": "markdown",
   "id": "f5d8683d-43bd-4e38-90ad-4f6da5d2351b",
   "metadata": {},
   "source": [
    "# Task # 2"
   ]
  },
  {
   "cell_type": "markdown",
   "id": "be010951-d8be-4089-9009-533dabc2f2bb",
   "metadata": {},
   "source": [
    "### Inorder ---> In in-order traversal, you first recursively visit the left subtree, then the root node, and then the right subtree."
   ]
  },
  {
   "cell_type": "code",
   "execution_count": 20,
   "id": "31132dc6-8376-4f21-a4c0-98ed4ab455a3",
   "metadata": {},
   "outputs": [],
   "source": [
    "class InOrderDFS:\n",
    "    def __init__(self):\n",
    "        self.stack = []\n",
    "\n",
    "    def push(self, node):\n",
    "        if node:\n",
    "            self.stack.append(node)\n",
    "\n",
    "    def pop(self):\n",
    "        if self.stack:\n",
    "            return self.stack.pop()\n",
    "        return None\n",
    "\n",
    "    def traverse(self, root):\n",
    "        current = root\n",
    "        while current or self.stack:\n",
    "            while current:\n",
    "                self.push(current)\n",
    "                current = current.left\n",
    "            current = self.pop()\n",
    "            print(current.data, end=\" \")\n",
    "            current = current.right"
   ]
  },
  {
   "cell_type": "code",
   "execution_count": 22,
   "id": "2c507bbb-3cea-4517-aa6f-91b95faa5294",
   "metadata": {},
   "outputs": [
    {
     "name": "stdout",
     "output_type": "stream",
     "text": [
      "D B E A F C G "
     ]
    }
   ],
   "source": [
    "root = Node('A')\n",
    "root.left = Node('B')\n",
    "root.right = Node('C')\n",
    "root.left.left = Node('D')\n",
    "root.left.right = Node('E')\n",
    "root.right.left = Node('F')\n",
    "root.right.right = Node('G')\n",
    "\n",
    "inorder = InOrderDFS()\n",
    "inorder.traverse(root)"
   ]
  },
  {
   "cell_type": "markdown",
   "id": "ae0e8f8c-4b4f-42f2-b826-8ddf39bdc95d",
   "metadata": {},
   "source": [
    "### Pre-order ---> In pre-order traversal, you process the root first, then recursively visit the left subtree and finally the right subtree."
   ]
  },
  {
   "cell_type": "code",
   "execution_count": 14,
   "id": "dbc07759-675d-40d3-9767-b76f6ffc14d0",
   "metadata": {},
   "outputs": [],
   "source": [
    "class Node:\n",
    "    def __init__(self, data):\n",
    "        self.data = data\n",
    "        self.left = None\n",
    "        self.right = None\n",
    "\n",
    "class DFS:\n",
    "    def __init__(self):\n",
    "        self.stack = []\n",
    "    \n",
    "    def push(self, node):\n",
    "        if node:\n",
    "            self.stack.append(node)\n",
    "    \n",
    "    def pop(self):\n",
    "        if self.stack:\n",
    "            return self.stack.pop()\n",
    "        return None\n",
    "\n",
    "    def traverse(self, root):\n",
    "        self.push(root)\n",
    "        while self.stack:\n",
    "            current_node = self.pop()\n",
    "            if current_node:\n",
    "                print(current_node.data, end=\" \") \n",
    "                self.push(current_node.right)\n",
    "                self.push(current_node.left)"
   ]
  },
  {
   "cell_type": "code",
   "execution_count": 16,
   "id": "a8c3295e-08e9-4faa-a910-33c89e682b58",
   "metadata": {},
   "outputs": [
    {
     "name": "stdout",
     "output_type": "stream",
     "text": [
      "A B D E C F G "
     ]
    }
   ],
   "source": [
    "root = Node('A')\n",
    "root.left = Node('B')\n",
    "root.right = Node('C')\n",
    "root.left.left = Node('D')\n",
    "root.left.right = Node('E')\n",
    "root.right.left = Node('F')\n",
    "root.right.right = Node('G')\n",
    "dfs = DFS()\n",
    "dfs.traverse(root)"
   ]
  },
  {
   "cell_type": "markdown",
   "id": "0e017278-ae01-4fff-938d-b77a323c0245",
   "metadata": {},
   "source": [
    "### Post-order ---> In post-order traversal, you recursively visit the left and right subtrees first and then process the root node."
   ]
  },
  {
   "cell_type": "code",
   "execution_count": 36,
   "id": "f31af9a6-c227-49e2-a3a7-4b3bb3d54771",
   "metadata": {},
   "outputs": [],
   "source": [
    "class PostOrderDFS:\n",
    "    def __init__(self):\n",
    "        self.stack = []\n",
    "        self.visited = set()  # Keep track of visited nodes\n",
    "\n",
    "    def push(self, node):\n",
    "        if node:\n",
    "            self.stack.append(node)\n",
    "\n",
    "    def pop(self):\n",
    "        if self.stack:\n",
    "            return self.stack.pop()\n",
    "        return None\n",
    "\n",
    "    def traverse(self, root):\n",
    "        self.push(root)\n",
    "        prev = None\n",
    "        while self.stack:\n",
    "            current_node = self.stack[-1]\n",
    "            if prev is None or prev.left == current_node or prev.right == current_node:\n",
    "                if current_node.left:\n",
    "                    self.push(current_node.left)\n",
    "                elif current_node.right:\n",
    "                    self.push(current_node.right)\n",
    "            elif current_node.left == prev:\n",
    "                if current_node.right:\n",
    "                    self.push(current_node.right)\n",
    "            else:\n",
    "                print(current_node.data, end=\" \")\n",
    "                self.pop()\n",
    "            prev = current_node"
   ]
  },
  {
   "cell_type": "code",
   "execution_count": 38,
   "id": "48ff4b6e-32fc-4cbc-8052-ca985311d713",
   "metadata": {},
   "outputs": [
    {
     "name": "stdout",
     "output_type": "stream",
     "text": [
      "D E B F G C A "
     ]
    }
   ],
   "source": [
    "root = Node('A')\n",
    "root.left = Node('B')\n",
    "root.right = Node('C')\n",
    "root.left.left = Node('D')\n",
    "root.left.right = Node('E')\n",
    "root.right.left = Node('F')\n",
    "root.right.right = Node('G')\n",
    "\n",
    "postorder = PostOrderDFS()\n",
    "postorder.traverse(root)"
   ]
  },
  {
   "cell_type": "code",
   "execution_count": null,
   "id": "b4c221c4-aaea-4f44-8948-af3454131b53",
   "metadata": {},
   "outputs": [],
   "source": []
  }
 ],
 "metadata": {
  "kernelspec": {
   "display_name": "Python 3 (ipykernel)",
   "language": "python",
   "name": "python3"
  },
  "language_info": {
   "codemirror_mode": {
    "name": "ipython",
    "version": 3
   },
   "file_extension": ".py",
   "mimetype": "text/x-python",
   "name": "python",
   "nbconvert_exporter": "python",
   "pygments_lexer": "ipython3",
   "version": "3.12.4"
  }
 },
 "nbformat": 4,
 "nbformat_minor": 5
}
