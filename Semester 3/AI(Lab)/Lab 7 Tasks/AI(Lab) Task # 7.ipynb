{
 "cells": [
  {
   "cell_type": "markdown",
   "id": "5308c631-3713-439c-872c-f0742c60a867",
   "metadata": {},
   "source": [
    "# Task 1: A* algorithm"
   ]
  },
  {
   "cell_type": "code",
   "execution_count": 18,
   "id": "8ebe99a5-5b02-47c5-ad76-e8415ad90a9f",
   "metadata": {},
   "outputs": [],
   "source": [
    "class Node:\n",
    "    def __init__(self, name):\n",
    "        self.name = name\n",
    "        self.neighbors = {}  \n",
    "        self.g = 0  \n",
    "        self.h = 0  \n",
    "        self.f = 0  \n",
    "        self.parent = None  \n",
    "\n",
    "    def add_neighbor(self, neighbor, distance):\n",
    "        self.neighbors[neighbor] = distance\n",
    "\n",
    "def heuristic(node, goal):\n",
    "    return 0\n",
    "\n",
    "def astar(graph, start_name, end_name):\n",
    "    start_node = graph[start_name]\n",
    "    end_node = graph[end_name]\n",
    "    start_node.g = 0\n",
    "    start_node.h = heuristic(start_node, end_node)\n",
    "    start_node.f = start_node.g + start_node.h\n",
    "    open_list = [start_node]\n",
    "    closed_list = []\n",
    "    while open_list:\n",
    "        current_node = open_list[0]\n",
    "        for node in open_list:\n",
    "            if node.f < current_node.f:\n",
    "                current_node = node\n",
    "        open_list.remove(current_node)\n",
    "        closed_list.append(current_node)\n",
    "        if current_node == end_node:\n",
    "            path = []\n",
    "            while current_node:\n",
    "                path.append(current_node.name)\n",
    "                current_node = current_node.parent\n",
    "            return path[::-1]\n",
    "        for neighbor, distance in current_node.neighbors.items():\n",
    "            if neighbor in closed_list:\n",
    "                continue  \n",
    "            tentative_g = current_node.g + distance\n",
    "            if tentative_g < neighbor.g or neighbor.g == 0:  \n",
    "                neighbor.parent = current_node\n",
    "                neighbor.g = tentative_g\n",
    "                neighbor.h = heuristic(neighbor, end_node)\n",
    "                neighbor.f = neighbor.g + neighbor.h\n",
    "                if neighbor not in open_list:\n",
    "                    open_list.append(neighbor)\n",
    "\n",
    "    return None"
   ]
  },
  {
   "cell_type": "code",
   "execution_count": 20,
   "id": "abe56eca-22a6-461b-acbb-85cd9b6136c5",
   "metadata": {},
   "outputs": [],
   "source": [
    "a = Node(\"A\")\n",
    "b = Node(\"B\")\n",
    "c = Node(\"C\")\n",
    "d = Node(\"D\")\n",
    "e = Node(\"E\")"
   ]
  },
  {
   "cell_type": "code",
   "execution_count": 22,
   "id": "24f11abd-d797-44de-990e-ba3af1e0b7cc",
   "metadata": {},
   "outputs": [],
   "source": [
    "a.add_neighbor(b, 1)\n",
    "a.add_neighbor(c, 4)\n",
    "b.add_neighbor(c, 2)\n",
    "b.add_neighbor(d, 5)\n",
    "c.add_neighbor(e, 3)\n",
    "d.add_neighbor(e, 1)"
   ]
  },
  {
   "cell_type": "code",
   "execution_count": 24,
   "id": "392d6cf4-2709-4ddb-930b-14d4d2ba87b9",
   "metadata": {},
   "outputs": [],
   "source": [
    "graph = {\n",
    "    \"A\": a,\n",
    "    \"B\": b,\n",
    "    \"C\": c,\n",
    "    \"D\": d,\n",
    "    \"E\": e\n",
    "}"
   ]
  },
  {
   "cell_type": "code",
   "execution_count": 26,
   "id": "f9240e29-9cb8-43a9-9946-4b0a1939b247",
   "metadata": {},
   "outputs": [
    {
     "name": "stdout",
     "output_type": "stream",
     "text": [
      "Path: ['A', 'B', 'C', 'E']\n"
     ]
    }
   ],
   "source": [
    "start = \"A\"\n",
    "goal = \"E\"\n",
    "path = astar(graph, start, goal)\n",
    "print(\"Path:\", path)"
   ]
  },
  {
   "cell_type": "code",
   "execution_count": null,
   "id": "26edfaa1-c100-4b2e-a3b7-da19b3124c31",
   "metadata": {},
   "outputs": [],
   "source": []
  }
 ],
 "metadata": {
  "kernelspec": {
   "display_name": "Python 3 (ipykernel)",
   "language": "python",
   "name": "python3"
  },
  "language_info": {
   "codemirror_mode": {
    "name": "ipython",
    "version": 3
   },
   "file_extension": ".py",
   "mimetype": "text/x-python",
   "name": "python",
   "nbconvert_exporter": "python",
   "pygments_lexer": "ipython3",
   "version": "3.12.4"
  }
 },
 "nbformat": 4,
 "nbformat_minor": 5
}
