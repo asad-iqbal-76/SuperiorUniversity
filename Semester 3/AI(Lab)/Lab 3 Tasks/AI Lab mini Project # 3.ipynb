{
 "cells": [
  {
   "cell_type": "markdown",
   "id": "693a0bf4",
   "metadata": {},
   "source": [
    "# Scenario: Smart Home Temperature Control"
   ]
  },
  {
   "cell_type": "markdown",
   "id": "8ef9c6da",
   "metadata": {},
   "source": [
    "Description:\n",
    "Imagine a smart home with multiple rooms. Each room has a thermostat that controls the heating system. The goal is to maintain a comfortable temperature in each room (e.g., 22°C). The smart home system is equipped with a Simple Reflex Agent that can:\n",
    "•\tSense the current temperature of each room.\n",
    "•\tTurn the heater on if the temperature is below 22°C.\n",
    "•\tTurn the heater off if the temperature is 22°C or above.\n",
    "We will also explore a Model-Based Reflex Agent that remembers whether the heater was on or off in the previous cycle to avoid redundant actions."
   ]
  },
  {
   "cell_type": "markdown",
   "id": "0a3fab2c",
   "metadata": {},
   "source": [
    "## Simple reflex agent"
   ]
  },
  {
   "cell_type": "code",
   "execution_count": 7,
   "id": "9caf4c1d",
   "metadata": {},
   "outputs": [],
   "source": [
    "class SimpleReflexAgent:\n",
    "    def __init__(self, desired_temperature):\n",
    "        self.desired_temperature = desired_temperature \n",
    "\n",
    "    def perceive(self, current_temperature):\n",
    "        return current_temperature\n",
    "\n",
    "    def act(self, current_temperature):\n",
    "        if current_temperature < self.desired_temperature:\n",
    "            action = \"Turn on heater\"\n",
    "        else:\n",
    "            action = \"Turn off heater\"\n",
    "        return action"
   ]
  },
  {
   "cell_type": "code",
   "execution_count": 8,
   "id": "80f5efcc",
   "metadata": {},
   "outputs": [],
   "source": [
    "# simulating different rooms with different current temperatures\n",
    "rooms = {\n",
    "    \"Living Room\": 18,\n",
    "    \"Bedroom\": 22,\n",
    "    \"Kitchen\": 20,\n",
    "    \"Bathroom\": 24\n",
    "}"
   ]
  },
  {
   "cell_type": "code",
   "execution_count": 9,
   "id": "93223d7c",
   "metadata": {},
   "outputs": [],
   "source": [
    "# desired temperature for all rooms\n",
    "desired_temperature = 22\n",
    "agent = SimpleReflexAgent(desired_temperature)"
   ]
  },
  {
   "cell_type": "code",
   "execution_count": 10,
   "id": "6c653bd1",
   "metadata": {},
   "outputs": [
    {
     "name": "stdout",
     "output_type": "stream",
     "text": [
      "Living Room: Current temperature = 18°C. Turn on heater.\n",
      "Bedroom: Current temperature = 22°C. Turn off heater.\n",
      "Kitchen: Current temperature = 20°C. Turn on heater.\n",
      "Bathroom: Current temperature = 24°C. Turn off heater.\n"
     ]
    }
   ],
   "source": [
    "# run the agent for each room\n",
    "for room, temperature in rooms.items():\n",
    "    action = agent.act(temperature)\n",
    "    print(f\"{room}: Current temperature = {temperature}°C. {action}.\")"
   ]
  },
  {
   "cell_type": "markdown",
   "id": "00c24146",
   "metadata": {},
   "source": [
    "## Model Based Reflex Agent"
   ]
  },
  {
   "cell_type": "code",
   "execution_count": 11,
   "id": "b6bdd1d7",
   "metadata": {},
   "outputs": [],
   "source": [
    "class ModelBasedReflexAgent:\n",
    "    def __init__(self, desired_temperature):\n",
    "        self.desired_temperature = desired_temperature\n",
    "        self.heater_state = {}\n",
    "\n",
    "    def perceive(self, room, current_temperature):\n",
    "        return current_temperature\n",
    "\n",
    "    def act(self, room, current_temperature):\n",
    "        previous_action = self.heater_state.get(room, \"off\")\n",
    "        if current_temperature < self.desired_temperature and previous_action == \"off\":\n",
    "            action = \"Turn on heater\"\n",
    "            self.heater_state[room] = \"on\"  \n",
    "        elif current_temperature >= self.desired_temperature and previous_action == \"on\":\n",
    "            action = \"Turn off heater\"\n",
    "            self.heater_state[room] = \"off\" \n",
    "        else:\n",
    "            action = f\"Keep heater {previous_action}\"\n",
    "        return action"
   ]
  },
  {
   "cell_type": "code",
   "execution_count": 12,
   "id": "90cc9226",
   "metadata": {},
   "outputs": [],
   "source": [
    "rooms = {\n",
    "    \"Living Room\": 18,\n",
    "    \"Bedroom\": 22,\n",
    "    \"Kitchen\": 20,\n",
    "    \"Bathroom\": 24\n",
    "}"
   ]
  },
  {
   "cell_type": "code",
   "execution_count": 13,
   "id": "5caf93f0",
   "metadata": {},
   "outputs": [],
   "source": [
    "desired_temperature = 22\n",
    "agent = ModelBasedReflexAgent(desired_temperature)"
   ]
  },
  {
   "cell_type": "code",
   "execution_count": 14,
   "id": "fa50ff88",
   "metadata": {},
   "outputs": [
    {
     "name": "stdout",
     "output_type": "stream",
     "text": [
      "Living Room: Current temperature = 18°C. Turn on heater.\n",
      "Bedroom: Current temperature = 22°C. Keep heater off.\n",
      "Kitchen: Current temperature = 20°C. Turn on heater.\n",
      "Bathroom: Current temperature = 24°C. Keep heater off.\n"
     ]
    }
   ],
   "source": [
    "for room, temperature in rooms.items():\n",
    "    action = agent.act(room, temperature)\n",
    "    print(f\"{room}: Current temperature = {temperature}°C. {action}.\")"
   ]
  },
  {
   "cell_type": "markdown",
   "id": "994f5a70",
   "metadata": {},
   "source": [
    "For each room, the agent checks the temperature and makes a decision based on the previous heater state and the current temperature.\n",
    "\n",
    "This Model-Based Reflex Agent is more efficient because it minimizes unnecessary toggling of the heater, unlike the Simple Reflex Agent."
   ]
  },
  {
   "cell_type": "code",
   "execution_count": null,
   "id": "849ecf31",
   "metadata": {},
   "outputs": [],
   "source": []
  }
 ],
 "metadata": {
  "kernelspec": {
   "display_name": "Python 3 (ipykernel)",
   "language": "python",
   "name": "python3"
  },
  "language_info": {
   "codemirror_mode": {
    "name": "ipython",
    "version": 3
   },
   "file_extension": ".py",
   "mimetype": "text/x-python",
   "name": "python",
   "nbconvert_exporter": "python",
   "pygments_lexer": "ipython3",
   "version": "3.11.5"
  }
 },
 "nbformat": 4,
 "nbformat_minor": 5
}
