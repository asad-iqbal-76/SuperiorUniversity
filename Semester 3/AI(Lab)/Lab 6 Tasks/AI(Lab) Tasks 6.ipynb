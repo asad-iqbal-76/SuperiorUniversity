{
 "cells": [
  {
   "cell_type": "markdown",
   "id": "2e55da09-8973-49f1-b0f5-c02c90f6a8bd",
   "metadata": {},
   "source": [
    "# Task # 1"
   ]
  },
  {
   "cell_type": "code",
   "execution_count": 2,
   "id": "220eca4e-a624-4226-b6cd-91cfeca65b7e",
   "metadata": {},
   "outputs": [],
   "source": [
    "tree = {\n",
    "    'A': ['B', 'C'],\n",
    "    'B': ['D', 'E'],\n",
    "    'C': ['F', 'G'],\n",
    "    'D': [],\n",
    "    'E': [],\n",
    "    'F': [],\n",
    "    'G': []\n",
    "}"
   ]
  },
  {
   "cell_type": "code",
   "execution_count": 10,
   "id": "c4f2ecfc-50d2-4186-bd78-a59187163423",
   "metadata": {},
   "outputs": [],
   "source": [
    "def bfs(tree, start, goal):\n",
    "    visited = []\n",
    "    queue = [start]\n",
    "    while queue:\n",
    "        node = queue.pop(0) \n",
    "        if node not in visited:\n",
    "            visited.append(node)\n",
    "            if node == goal:\n",
    "                return visited, \"achieved.\"\n",
    "            queue.extend(tree[node])\n",
    "    return visited, \"not found.\""
   ]
  },
  {
   "cell_type": "code",
   "execution_count": 12,
   "id": "f767501b-7afc-43dc-ba9a-1acc1ee82762",
   "metadata": {},
   "outputs": [
    {
     "name": "stdout",
     "output_type": "stream",
     "text": [
      "Visited nodes in BFS order: ['A', 'B', 'C', 'D']\n",
      "Goal status: achieved.\n"
     ]
    }
   ],
   "source": [
    "visited, result = bfs(tree, 'A', 'D')\n",
    "print(\"Visited nodes in BFS order:\", visited)\n",
    "print(\"Goal status:\", result)"
   ]
  },
  {
   "cell_type": "markdown",
   "id": "04c76a75-31ef-460a-ae37-c5d098d3b503",
   "metadata": {},
   "source": [
    "# Task # 2"
   ]
  },
  {
   "cell_type": "code",
   "execution_count": 15,
   "id": "1d699776-f561-4659-8a05-226bc3f02fd2",
   "metadata": {},
   "outputs": [],
   "source": [
    "class Node:\n",
    "    def __init__(self, data):\n",
    "        self.data = data\n",
    "        self.left = None\n",
    "        self.right = None"
   ]
  },
  {
   "cell_type": "code",
   "execution_count": 17,
   "id": "0ce31e42-c9f0-49e8-a73d-5014b687e716",
   "metadata": {},
   "outputs": [],
   "source": [
    "def bfs(root, goal):\n",
    "    visited = []\n",
    "    queue = [root]  \n",
    "    while queue:\n",
    "        current_node = queue.pop(0)  \n",
    "        if current_node:\n",
    "            visited.append(current_node.data)\n",
    "            # Check if we reached the goal\n",
    "            if current_node.data == goal:\n",
    "                return visited, \"achieved.\"\n",
    "            queue.append(current_node.left)\n",
    "            queue.append(current_node.right)\n",
    "\n",
    "    return visited, \"not found.\""
   ]
  },
  {
   "cell_type": "code",
   "execution_count": 19,
   "id": "d9e21b6d-bb8b-4f66-ae99-369f6fba89ee",
   "metadata": {},
   "outputs": [],
   "source": [
    "root = Node('A')\n",
    "root.left = Node('B')\n",
    "root.right = Node('C')\n",
    "root.left.left = Node('D')\n",
    "root.left.right = Node('E')\n",
    "root.right.left = Node('F')\n",
    "root.right.right = Node('G')"
   ]
  },
  {
   "cell_type": "code",
   "execution_count": 23,
   "id": "d5a7f00b-e53f-4d49-967c-f8a124ce39ff",
   "metadata": {},
   "outputs": [
    {
     "name": "stdout",
     "output_type": "stream",
     "text": [
      "Visited nodes in BFS order: ['A', 'B', 'C']\n",
      "Goal status: achieved.\n"
     ]
    }
   ],
   "source": [
    "visited, result = bfs(root, 'C')\n",
    "print(\"Visited nodes in BFS order:\", visited)\n",
    "print(\"Goal status:\", result)"
   ]
  }
 ],
 "metadata": {
  "kernelspec": {
   "display_name": "Python 3 (ipykernel)",
   "language": "python",
   "name": "python3"
  },
  "language_info": {
   "codemirror_mode": {
    "name": "ipython",
    "version": 3
   },
   "file_extension": ".py",
   "mimetype": "text/x-python",
   "name": "python",
   "nbconvert_exporter": "python",
   "pygments_lexer": "ipython3",
   "version": "3.12.4"
  }
 },
 "nbformat": 4,
 "nbformat_minor": 5
}
