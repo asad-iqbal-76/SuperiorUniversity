{
 "cells": [
  {
   "cell_type": "markdown",
   "id": "c3cf6412-c656-4206-a2fa-d0de878ae7e7",
   "metadata": {},
   "source": [
    "# Minmax Algorithm"
   ]
  },
  {
   "cell_type": "code",
   "execution_count": 8,
   "id": "87c76241-13d4-49bf-8c26-be53fae09ca1",
   "metadata": {},
   "outputs": [],
   "source": [
    "import math"
   ]
  },
  {
   "cell_type": "code",
   "execution_count": 9,
   "id": "a879a4d3-9c76-4806-8acf-d720c8fad47f",
   "metadata": {},
   "outputs": [],
   "source": [
    "def minimax (curr, node, maxTurn, scores, target):\n",
    "    if (curr == target): \n",
    "        return scores[node]\n",
    "    if (maxTurn):\n",
    "        return max(minimax(curr + 1, node * 2, False, scores, target), \n",
    "                   minimax(curr + 1, node * 2 + 1, False, scores, target))\n",
    "    else:\n",
    "        return min(minimax(curr + 1, node * 2, True, scores, target), \n",
    "                   minimax(curr + 1, node * 2 + 1, True, scores, target))"
   ]
  },
  {
   "cell_type": "code",
   "execution_count": 10,
   "id": "6a93f532-cbd2-4b8f-888e-6d67001a4d99",
   "metadata": {},
   "outputs": [],
   "source": [
    "scores = [3, 5, 2, 9, 12, 5, 23, 23]"
   ]
  },
  {
   "cell_type": "code",
   "execution_count": 11,
   "id": "1bc3615e-2218-47c3-ad7c-427d7924377c",
   "metadata": {},
   "outputs": [],
   "source": [
    "tree = math.log(len(scores), 2)"
   ]
  },
  {
   "cell_type": "code",
   "execution_count": 12,
   "id": "90ee71bc-94a7-43e4-9494-b01d7e3aaaad",
   "metadata": {},
   "outputs": [
    {
     "name": "stdout",
     "output_type": "stream",
     "text": [
      "The optimal value is : 12\n",
      "3.0\n"
     ]
    }
   ],
   "source": [
    "print(\"The optimal value is : \", end = \"\")\n",
    "print(minimax(0, 0, True, scores, tree))\n",
    "print(tree)"
   ]
  }
 ],
 "metadata": {
  "kernelspec": {
   "display_name": "Python 3 (ipykernel)",
   "language": "python",
   "name": "python3"
  },
  "language_info": {
   "codemirror_mode": {
    "name": "ipython",
    "version": 3
   },
   "file_extension": ".py",
   "mimetype": "text/x-python",
   "name": "python",
   "nbconvert_exporter": "python",
   "pygments_lexer": "ipython3",
   "version": "3.12.4"
  }
 },
 "nbformat": 4,
 "nbformat_minor": 5
}
