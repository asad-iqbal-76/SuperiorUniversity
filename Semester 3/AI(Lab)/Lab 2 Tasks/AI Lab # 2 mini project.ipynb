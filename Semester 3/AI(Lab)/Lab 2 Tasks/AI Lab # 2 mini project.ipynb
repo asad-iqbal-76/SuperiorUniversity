{
 "cells": [
  {
   "cell_type": "markdown",
   "id": "6d774046",
   "metadata": {},
   "source": [
    "# Mini Project # 1"
   ]
  },
  {
   "cell_type": "code",
   "execution_count": 1,
   "id": "7590f69e",
   "metadata": {},
   "outputs": [],
   "source": [
    "class FizzBuzzApp:\n",
    "    def __init__(self):\n",
    "        self.user_input = None\n",
    "\n",
    "    def get_user_input(self):\n",
    "        try:\n",
    "            self.user_input = int(input(\"Enter a number to run FizzBuzz up to: \"))\n",
    "        except ValueError:\n",
    "            print(\"Please enter a valid integer.\")\n",
    "\n",
    "    def fizzbuzz(self):\n",
    "        if self.user_input is None:\n",
    "            return\n",
    "        \n",
    "        for i in range(1, self.user_input + 1):\n",
    "            if i % 3 == 0 and i % 5 == 0:\n",
    "                print(\"FizzBuzz\")\n",
    "            elif i % 3 == 0:\n",
    "                print(\"Fizz\")\n",
    "            elif i % 5 == 0:\n",
    "                print(\"Buzz\")\n",
    "            else:\n",
    "                print(i)\n",
    "\n",
    "    def run(self):\n",
    "        self.get_user_input()\n",
    "        self.fizzbuzz()"
   ]
  },
  {
   "cell_type": "code",
   "execution_count": 2,
   "id": "528d6bf7",
   "metadata": {},
   "outputs": [
    {
     "name": "stdout",
     "output_type": "stream",
     "text": [
      "Enter a number to run FizzBuzz up to: 50\n",
      "1\n",
      "2\n",
      "Fizz\n",
      "4\n",
      "Buzz\n",
      "Fizz\n",
      "7\n",
      "8\n",
      "Fizz\n",
      "Buzz\n",
      "11\n",
      "Fizz\n",
      "13\n",
      "14\n",
      "FizzBuzz\n",
      "16\n",
      "17\n",
      "Fizz\n",
      "19\n",
      "Buzz\n",
      "Fizz\n",
      "22\n",
      "23\n",
      "Fizz\n",
      "Buzz\n",
      "26\n",
      "Fizz\n",
      "28\n",
      "29\n",
      "FizzBuzz\n",
      "31\n",
      "32\n",
      "Fizz\n",
      "34\n",
      "Buzz\n",
      "Fizz\n",
      "37\n",
      "38\n",
      "Fizz\n",
      "Buzz\n",
      "41\n",
      "Fizz\n",
      "43\n",
      "44\n",
      "FizzBuzz\n",
      "46\n",
      "47\n",
      "Fizz\n",
      "49\n",
      "Buzz\n"
     ]
    }
   ],
   "source": [
    "app = FizzBuzzApp()\n",
    "app.run()"
   ]
  },
  {
   "cell_type": "code",
   "execution_count": 3,
   "id": "60e38c87",
   "metadata": {},
   "outputs": [],
   "source": [
    "import random\n",
    "\n",
    "class FizzBuzzGame:\n",
    "    def __init__(self):\n",
    "        print(\"Welcome to the Fizz Buzz game!\")\n",
    "    \n",
    "    def get_random_number(self):\n",
    "        return random.randint(1, 100)\n",
    "\n",
    "    def get_correct_answer(self, number):\n",
    "        if number % 3 == 0 and number % 5 == 0:\n",
    "            return \"Fizz Buzz\"\n",
    "        elif number % 3 == 0:\n",
    "            return \"Fizz\"\n",
    "        elif number % 5 == 0:\n",
    "            return \"Buzz\"\n",
    "        else:\n",
    "            return str(number)\n",
    "\n",
    "    def play(self):\n",
    "        while True:\n",
    "            number = self.get_random_number()\n",
    "            print(f\"Number: {number}\")\n",
    "            user_input = input(\"Your turn: \")\n",
    "            correct_answer = self.get_correct_answer(number)\n",
    "\n",
    "            if user_input == correct_answer:\n",
    "                print(\"Correct!\\n\")\n",
    "            else:\n",
    "                print(f\"Wrong! The correct answer was: {correct_answer}\")\n",
    "                print(\"Game over!\")\n",
    "                break"
   ]
  },
  {
   "cell_type": "code",
   "execution_count": 5,
   "id": "49e4b61b",
   "metadata": {},
   "outputs": [
    {
     "name": "stdout",
     "output_type": "stream",
     "text": [
      "Welcome to the Fizz Buzz game!\n",
      "Number: 29\n",
      "Your turn: 29\n",
      "Correct!\n",
      "\n",
      "Number: 64\n",
      "Your turn: 64\n",
      "Correct!\n",
      "\n",
      "Number: 47\n",
      "Your turn: 47\n",
      "Correct!\n",
      "\n",
      "Number: 100\n",
      "Your turn: Buzz\n",
      "Correct!\n",
      "\n",
      "Number: 77\n",
      "Your turn: 77\n",
      "Correct!\n",
      "\n",
      "Number: 26\n",
      "Your turn: 26\n",
      "Correct!\n",
      "\n",
      "Number: 23\n",
      "Your turn: 23\n",
      "Correct!\n",
      "\n",
      "Number: 54\n",
      "Your turn: Fizz\n",
      "Correct!\n",
      "\n",
      "Number: 18\n",
      "Your turn: Fizz\n",
      "Correct!\n",
      "\n",
      "Number: 40\n",
      "Your turn: Buzz\n",
      "Correct!\n",
      "\n",
      "Number: 42\n",
      "Your turn: Fizz\n",
      "Correct!\n",
      "\n",
      "Number: 15\n",
      "Your turn: Fizz buzz\n",
      "Wrong! The correct answer was: Fizz Buzz\n",
      "Game over!\n"
     ]
    }
   ],
   "source": [
    "game = FizzBuzzGame()\n",
    "game.play()"
   ]
  },
  {
   "cell_type": "markdown",
   "id": "143f3094",
   "metadata": {},
   "source": [
    "# Mini Project # 2"
   ]
  },
  {
   "cell_type": "code",
   "execution_count": 28,
   "id": "94be7bac",
   "metadata": {},
   "outputs": [],
   "source": [
    "movies = [\n",
    "    (\"Eternal Sunshine of the Spotless Mind\", 20000000),\n",
    "    (\"Memento\", 9000000),\n",
    "    (\"Requiem for a Dream\", 4500000),\n",
    "    (\"Pirates of the Caribbean: On Stranger Tides\", 379000000),\n",
    "    (\"Avengers: Age of Ultron\", 365000000),\n",
    "    (\"Avengers: Endgame\", 356000000),\n",
    "    (\"Incredibles 2\", 200000000)\n",
    "]"
   ]
  },
  {
   "cell_type": "code",
   "execution_count": 29,
   "id": "156e72b2",
   "metadata": {},
   "outputs": [],
   "source": [
    "def calculate_average_budget(movies_list):\n",
    "    total_budget = 0\n",
    "    number_of_movies = 0  \n",
    "    for movie in movies_list:\n",
    "        name, budget = movie  \n",
    "        total_budget += budget  \n",
    "        number_of_movies += 1  \n",
    "    average_budget = total_budget / number_of_movies\n",
    "    return average_budget"
   ]
  },
  {
   "cell_type": "code",
   "execution_count": 30,
   "id": "63ddcc08",
   "metadata": {},
   "outputs": [],
   "source": [
    "def find_high_budget_movies(movies_list, avg_budget):\n",
    "    high_budget_movies = []\n",
    "    for name, budget in movies_list:\n",
    "        if budget > avg_budget:\n",
    "            high_budget_movies.append((name, budget, budget - avg_budget))\n",
    "    return high_budget_movies"
   ]
  },
  {
   "cell_type": "code",
   "execution_count": 31,
   "id": "37158beb",
   "metadata": {},
   "outputs": [],
   "source": [
    "def add_movies():\n",
    "    num_movies = int(input(\"How many movies do you want to add? \"))\n",
    "    for i in range(num_movies):\n",
    "        name = input(\"Enter the movie name: \")\n",
    "        budget = int(input(\"Enter the movie budget: \"))\n",
    "        movies.append((name, budget))\n",
    "    print(f\"{num_movies} movies added successfully!\")"
   ]
  },
  {
   "cell_type": "code",
   "execution_count": 35,
   "id": "5729c769",
   "metadata": {},
   "outputs": [],
   "source": [
    "def display_menu():\n",
    "    print(\"\\nMovie Budget Analysis Menu\")\n",
    "    print(\"1. View average movie budget\")\n",
    "    print(\"2. Add more movies\")\n",
    "    print(\"3. List high budget movies\")\n",
    "    print(\"4. Exit\")"
   ]
  },
  {
   "cell_type": "code",
   "execution_count": 36,
   "id": "649d2246",
   "metadata": {},
   "outputs": [],
   "source": [
    "def main():\n",
    "    while True:\n",
    "        display_menu()\n",
    "        choice = input(\"Choose an option (1-4): \")\n",
    "        \n",
    "        if choice == '1':\n",
    "            average_budget = calculate_average_budget(movies)\n",
    "            print(f\"\\nThe average movie budget is: ${average_budget}\")\n",
    "        elif choice == '2':\n",
    "            add_movies()\n",
    "        elif choice == '3':\n",
    "            average_budget = calculate_average_budget(movies)\n",
    "            high_budget_movies = find_high_budget_movies(movies, average_budget)\n",
    "            print(f\"\\nThe average movie budget is: ${average_budget}\")\n",
    "            print(\"Movies with a budget higher than the average:\")\n",
    "            for name, budget, excess in high_budget_movies:\n",
    "                print(f\"{name} has a budget of ${budget}, which is ${excess} more than the average.\")\n",
    "            print(f\"\\nTotal number of movies with a budget higher than the average: {len(high_budget_movies)}\")\n",
    "        elif choice == '4':\n",
    "            print(\"Exiting the program. Goodbye!\")\n",
    "            break\n",
    "        else:\n",
    "            print(\"Invalid choice. Please select a valid option (1-4).\")"
   ]
  },
  {
   "cell_type": "code",
   "execution_count": 37,
   "id": "270f36d8",
   "metadata": {},
   "outputs": [
    {
     "name": "stdout",
     "output_type": "stream",
     "text": [
      "\n",
      "Movie Budget Analysis Menu\n",
      "1. View average movie budget\n",
      "2. Add more movies\n",
      "3. List high budget movies\n",
      "4. Exit\n",
      "Choose an option (1-4): 1\n",
      "\n",
      "The average movie budget is: $190500000.0\n",
      "\n",
      "Movie Budget Analysis Menu\n",
      "1. View average movie budget\n",
      "2. Add more movies\n",
      "3. List high budget movies\n",
      "4. Exit\n",
      "Choose an option (1-4): 3\n",
      "\n",
      "The average movie budget is: $190500000.0\n",
      "Movies with a budget higher than the average:\n",
      "Pirates of the Caribbean: On Stranger Tides has a budget of $379000000, which is $188500000.0 more than the average.\n",
      "Avengers: Age of Ultron has a budget of $365000000, which is $174500000.0 more than the average.\n",
      "Avengers: Endgame has a budget of $356000000, which is $165500000.0 more than the average.\n",
      "Incredibles 2 has a budget of $200000000, which is $9500000.0 more than the average.\n",
      "\n",
      "Total number of movies with a budget higher than the average: 4\n",
      "\n",
      "Movie Budget Analysis Menu\n",
      "1. View average movie budget\n",
      "2. Add more movies\n",
      "3. List high budget movies\n",
      "4. Exit\n",
      "Choose an option (1-4): 4\n",
      "Exiting the program. Goodbye!\n"
     ]
    }
   ],
   "source": [
    "main()"
   ]
  }
 ],
 "metadata": {
  "kernelspec": {
   "display_name": "Python 3 (ipykernel)",
   "language": "python",
   "name": "python3"
  },
  "language_info": {
   "codemirror_mode": {
    "name": "ipython",
    "version": 3
   },
   "file_extension": ".py",
   "mimetype": "text/x-python",
   "name": "python",
   "nbconvert_exporter": "python",
   "pygments_lexer": "ipython3",
   "version": "3.11.5"
  }
 },
 "nbformat": 4,
 "nbformat_minor": 5
}
